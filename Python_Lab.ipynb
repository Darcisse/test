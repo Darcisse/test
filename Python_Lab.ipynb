{
  "nbformat": 4,
  "nbformat_minor": 0,
  "metadata": {
    "colab": {
      "name": "Python_Lab.ipynb",
      "provenance": [],
      "collapsed_sections": []
    },
    "kernelspec": {
      "display_name": "Python 3",
      "language": "python",
      "name": "python3"
    },
    "language_info": {
      "codemirror_mode": {
        "name": "ipython",
        "version": 3
      },
      "file_extension": ".py",
      "mimetype": "text/x-python",
      "name": "python",
      "nbconvert_exporter": "python",
      "pygments_lexer": "ipython3",
      "version": "3.7.7"
    }
  },
  "cells": [
    {
      "cell_type": "markdown",
      "metadata": {
        "id": "KOP7kgV5PSl2"
      },
      "source": [
        "# Python and algorithms"
      ]
    },
    {
      "cell_type": "markdown",
      "metadata": {
        "id": "0R6uyhNyjPMc"
      },
      "source": [
        "##### Сomplete this part of test without using any libs (your code must not contain keyword 'import') \n",
        "> **Important note:** Before submission make sure that you **didn't add or delete any notebook cells**. Otherwise your work may not be accepted by the validator!"
      ]
    },
    {
      "cell_type": "markdown",
      "metadata": {
        "id": "GC_iufBgjPMd"
      },
      "source": [
        "#### 1. Implement function str_to_dict(some_str) which returnes dictionary, where keys are string characters, and values are their quantity in the string\n",
        "\n",
        "<div style=\"text-align: right\">1 point</div>"
      ]
    },
    {
      "cell_type": "code",
      "metadata": {
        "id": "DDou3xupjPMe"
      },
      "source": [
        "def str_to_dict(some_str):\n",
        "  dictionary = {}\n",
        "  for i in range (len(some_str)):\n",
        "      if some_str[i] not in dictionary:\n",
        "        key = some_str[i]\n",
        "        dictionary[key]=1\n",
        "      else:\n",
        "        key2 = some_str[i]\n",
        "        dictionary[key2] += 1\n",
        "  \n",
        "  return dictionary\n",
        "\n",
        "\n",
        "    "
      ],
      "execution_count": 36,
      "outputs": []
    },
    {
      "cell_type": "code",
      "metadata": {
        "id": "FPjc0Ckxsdbl",
        "colab": {
          "base_uri": "https://localhost:8080/"
        },
        "outputId": "368e1611-4b70-4e40-cd2b-466b83f5b808"
      },
      "source": [
        "print('Str to dict:', str_to_dict('dataroot_university'))"
      ],
      "execution_count": 37,
      "outputs": [
        {
          "output_type": "stream",
          "name": "stdout",
          "text": [
            "Str to dict: {'d': 1, 'a': 2, 't': 3, 'r': 2, 'o': 2, '_': 1, 'u': 1, 'n': 1, 'i': 2, 'v': 1, 'e': 1, 's': 1, 'y': 1}\n"
          ]
        }
      ]
    },
    {
      "cell_type": "markdown",
      "metadata": {
        "id": "nurux2Btsdbn"
      },
      "source": [
        "Expected Output: \n",
        "<table>\n",
        "  <tr>\n",
        "    <td>Str to dict:</td>\n",
        "    <td> {'d': 1, 'a': 2, 't': 3, 'r': 2, 'o': 2, '_': 1, 'u': 1, 'n': 1, 'i': 2, 'v': 1, 'e': 1, 's': 1, 'y': 1} </td> \n",
        "  </tr>"
      ]
    },
    {
      "cell_type": "markdown",
      "metadata": {
        "id": "ELtxJQQLjPMi"
      },
      "source": [
        "#### 2. Implement function sec_smallest(numbers) which returns second smallest item in the list, without using the built-in sorting methods (your code mustn't contain such words as 'sort', 'sorted')\n",
        "\n",
        "<div style=\"text-align: right\">1 point\n",
        "  "
      ]
    },
    {
      "cell_type": "code",
      "metadata": {
        "id": "yJVJiK9jjPMj"
      },
      "source": [
        "def sec_smallest(numbers):\n",
        "    for n in range(len(numbers)-1, 0, -1):\n",
        "      for i in range(n):\n",
        "        if numbers[i] > numbers[i + 1]:\n",
        "          numbers[i], numbers[i + 1] = numbers[i + 1], numbers[i]\n",
        "\n",
        "    numnorepeated = list(dict.fromkeys(numbers))\n",
        "    \n",
        "    return numnorepeated[1]\n",
        "\n"
      ],
      "execution_count": 59,
      "outputs": []
    },
    {
      "cell_type": "code",
      "metadata": {
        "id": "pg4ry_8Csdbq",
        "colab": {
          "base_uri": "https://localhost:8080/"
        },
        "outputId": "542f66b8-17e9-4295-da86-20e65e4bdd19"
      },
      "source": [
        "print('Sec_smallest: ', sec_smallest([1, 2, -8, -8, -2, 0]))"
      ],
      "execution_count": 60,
      "outputs": [
        {
          "output_type": "stream",
          "name": "stdout",
          "text": [
            "Sec_smallest:  -2\n"
          ]
        }
      ]
    },
    {
      "cell_type": "markdown",
      "metadata": {
        "id": "qVlYH9axsdbs"
      },
      "source": [
        "Expected Output: \n",
        "<table>\n",
        "  <tr>\n",
        "    <td>Sec_smallest:</td>\n",
        "    <td> -2 </td> \n",
        "  </tr>"
      ]
    },
    {
      "cell_type": "markdown",
      "metadata": {
        "id": "tzgLZ6VijPMo"
      },
      "source": [
        "#### 3. Implement function prime_nums(n) that returns list of numbers which  are simple and < n\n",
        "\n",
        "<div style=\"text-align: right\">1 point</div>"
      ]
    },
    {
      "cell_type": "code",
      "metadata": {
        "id": "jvVD9N32jPMp"
      },
      "source": [
        "def prime_nums(n):\n",
        "    numbers = []\n",
        "    for num in range(n):\n",
        "      if num > 1:\n",
        "        for i in range(2,num):\n",
        "          if num % i == 0:\n",
        "            break\n",
        "        else:\n",
        "          numbers.append(num)\n",
        "\n",
        "    return numbers"
      ],
      "execution_count": 108,
      "outputs": []
    },
    {
      "cell_type": "code",
      "metadata": {
        "id": "Zf9DMkN9sdbw",
        "colab": {
          "base_uri": "https://localhost:8080/"
        },
        "outputId": "f3ade177-0666-4edf-c0d4-2b44a501140d"
      },
      "source": [
        "print('Prime numbers: ', prime_nums(30))"
      ],
      "execution_count": 109,
      "outputs": [
        {
          "output_type": "stream",
          "name": "stdout",
          "text": [
            "Prime numbers:  [2, 3, 5, 7, 11, 13, 17, 19, 23, 29]\n"
          ]
        }
      ]
    },
    {
      "cell_type": "markdown",
      "metadata": {
        "id": "pYutFqaAsdbz"
      },
      "source": [
        "Expected Output:\n",
        "<table>\n",
        "  <tr>\n",
        "    <td>Prime numbers:</td>\n",
        "    <td>[2, 3, 5, 7, 11, 13, 17, 19, 23, 29]</td>\n",
        "  </tr>"
      ]
    },
    {
      "cell_type": "markdown",
      "metadata": {
        "id": "BZYlq4RtzTCJ"
      },
      "source": [
        "#### 4. Implement function max_sum_index(tuples), which returnes index of tuple in the list with maximum sum of elements\n",
        "\n",
        "<div style=\"text-align: right\">1 point</div>"
      ]
    },
    {
      "cell_type": "code",
      "metadata": {
        "id": "nSoHCzrZzTCK"
      },
      "source": [
        "def max_sum_index(tuples):  \n",
        "    '''\n",
        "    :param tuples: list[tuple]\n",
        "    :return: int\n",
        "    '''\n",
        "    # YOUR CODE HERE"
      ],
      "execution_count": null,
      "outputs": []
    },
    {
      "cell_type": "code",
      "metadata": {
        "id": "kDgUQzSjzTCM"
      },
      "source": [
        "print('Index: ', max_sum_index([(10, 20, 1, 2), (51, 32), (30, 25, 5)]))\n",
        "print('Index: ', max_sum_index([(47, 22, 11), (23, 17)]))"
      ],
      "execution_count": null,
      "outputs": []
    },
    {
      "cell_type": "markdown",
      "metadata": {
        "id": "RFxkqxeAzTCO"
      },
      "source": [
        "Expected Output: \n",
        "<table>\n",
        "  <tr>\n",
        "    <td>Index:</td>\n",
        "    <td> 1 </td> \n",
        "  </tr>\n",
        "  <tr>\n",
        "    <td>Index:</td>\n",
        "    <td> 0 </td> \n",
        "  </tr>\n",
        "</table>"
      ]
    },
    {
      "cell_type": "markdown",
      "metadata": {
        "id": "dgWLVbybzTCO"
      },
      "source": [
        "#### 5. Implement function gcd(x, y), which returns the greatest common divisor of n and m\n",
        "<div style=\"text-align: right\">1 point</div>"
      ]
    },
    {
      "cell_type": "code",
      "metadata": {
        "id": "NivXXE8ZzTCO"
      },
      "source": [
        "def gcd(x, y):   \n",
        "    '''\n",
        "    :params m,n: int\n",
        "    :return: int\n",
        "    '''\n",
        "    # YOUR CODE HERE"
      ],
      "execution_count": null,
      "outputs": []
    },
    {
      "cell_type": "code",
      "metadata": {
        "id": "4foTg3J2zTCQ"
      },
      "source": [
        "print('GCD: ', gcd(160, 180))"
      ],
      "execution_count": null,
      "outputs": []
    },
    {
      "cell_type": "markdown",
      "metadata": {
        "id": "Sqnrn37NzTCU"
      },
      "source": [
        "Expected Output: \n",
        "<table>\n",
        "  <tr>\n",
        "    <td>GCD:</td>\n",
        "    <td> 20 </td> \n",
        "  </tr>"
      ]
    },
    {
      "cell_type": "markdown",
      "metadata": {
        "id": "7taKAqDEzTCU"
      },
      "source": [
        "#### 6. Implement recursive sum of the list\n",
        "<div style=\"text-align: right\">1 point</div>"
      ]
    },
    {
      "cell_type": "code",
      "metadata": {
        "id": "OZ88SyEPzTCV"
      },
      "source": [
        "def recursive_list_sum(data_list):\n",
        "    \"\"\"\n",
        "    :param data_list: list[list]\n",
        "    \"\"\"\n",
        "    # YOUR CODE HERE"
      ],
      "execution_count": null,
      "outputs": []
    },
    {
      "cell_type": "code",
      "metadata": {
        "id": "xBqGJR2MzTCW"
      },
      "source": [
        "print('The sum of a list is ', recursive_list_sum([1, 2, [3, 4], [5, 6], [7, 8, 9, [10]]]))"
      ],
      "execution_count": null,
      "outputs": []
    },
    {
      "cell_type": "markdown",
      "metadata": {
        "id": "-B7d97oszTCY"
      },
      "source": [
        "Expected Output:\n",
        "<table>\n",
        "  <tr>\n",
        "    <td>The sum of a list is 55</td> \n",
        "  </tr>"
      ]
    },
    {
      "cell_type": "markdown",
      "metadata": {
        "id": "IwBGvz-UzTCZ"
      },
      "source": [
        "#### 7. Implement decorator which returns function signature and it's return value\n",
        "<div style=\"text-align: right\">1 point</div>"
      ]
    },
    {
      "cell_type": "code",
      "metadata": {
        "id": "VqlkRz0szTCZ"
      },
      "source": [
        "def debug(func):\n",
        "    \"\"\"\n",
        "    :param func: function\n",
        "    \"\"\"\n",
        "    # YOUR CODE HERE"
      ],
      "execution_count": null,
      "outputs": []
    },
    {
      "cell_type": "code",
      "metadata": {
        "id": "rCRTAmeizTCb"
      },
      "source": [
        "@debug\n",
        "def add(a, b):\n",
        "    return a + b\n",
        "    \n",
        "@debug\n",
        "def sub(a, b=100):\n",
        "    return a - b\n",
        "\n",
        "print(add(3, 4))\n",
        "print(sub(3))\n",
        "print(sub(3,4))"
      ],
      "execution_count": null,
      "outputs": []
    },
    {
      "cell_type": "markdown",
      "metadata": {
        "id": "dagwtSWmzTCd"
      },
      "source": [
        "Expected Output:\n",
        "<table>\n",
        "  <tr>\n",
        "    <td>add(3, 4) was called and returned 7</td>\n",
        "  </tr>\n",
        "  <tr>\n",
        "    <td>sub(3) was called and returned -97</td>\n",
        "  </tr>\n",
        "  <tr>\n",
        "    <td>sub(3, 4) was called and returned -1</td>\n",
        "  <tr>"
      ]
    },
    {
      "cell_type": "markdown",
      "metadata": {
        "id": "p96mEq8vjPMr"
      },
      "source": [
        "#### 8. Implement class Conv, that contains method to_roman(self, n), which converts decimal numbers to Roman numerals\n",
        "\n",
        "<div style=\"text-align: right\">2 points</div>"
      ]
    },
    {
      "cell_type": "code",
      "metadata": {
        "id": "weYiaNWojPMs"
      },
      "source": [
        "class Conv:\n",
        "    def __init__(self):\n",
        "        self.val = [\n",
        "            1000, 900, 500, 400,\n",
        "            100, 90, 50, 40,\n",
        "            10, 9, 5, 4, 1\n",
        "        ]\n",
        "\n",
        "        self.syb = [\n",
        "            'M', 'CM', 'D', 'CD',\n",
        "            'C', 'XC', 'L', 'XL',\n",
        "            'X', 'IX', 'V', 'IV',\n",
        "            'I'\n",
        "        ]\n",
        "        \n",
        "    def to_roman(self, num):    \n",
        "        \"\"\"\n",
        "        :param self:\n",
        "        :param n: int\n",
        "        :return: str    \n",
        "        \"\"\"\n",
        "        # YOUR CODE HERE"
      ],
      "execution_count": null,
      "outputs": []
    },
    {
      "cell_type": "code",
      "metadata": {
        "id": "NdffBhZesdb6"
      },
      "source": [
        "print('Converted: ', Conv().to_roman(44))"
      ],
      "execution_count": null,
      "outputs": []
    },
    {
      "cell_type": "markdown",
      "metadata": {
        "id": "lF6Acd9gsdb8"
      },
      "source": [
        "Expected Output:\n",
        "<table>\n",
        "  <tr>\n",
        "    <td>Converted:</td>\n",
        "    <td>XLIV</td> \n",
        "  </tr>"
      ]
    },
    {
      "cell_type": "markdown",
      "metadata": {
        "id": "kphmMZ7JjPMv"
      },
      "source": [
        "#### 9. Implement class CombinationsList, that contains method get_combinations(self, my_list), which returns all combinations of elements of given list, including empty element. Order of elements doesn't matter\n",
        "<div style=\"text-align: right\">3 points</div>"
      ]
    },
    {
      "cell_type": "code",
      "metadata": {
        "id": "YRLNrVppjPMw"
      },
      "source": [
        "class CombinationsList:\n",
        "    @staticmethod\n",
        "    def get_combinations(my_list):\n",
        "        \"\"\"\n",
        "        :param self:\n",
        "        :param my_list: list\n",
        "        :return: list[list]\n",
        "        \"\"\"\n",
        "        # YOUR CODE HERE"
      ],
      "execution_count": null,
      "outputs": []
    },
    {
      "cell_type": "code",
      "metadata": {
        "id": "8IVUwFllsdb_"
      },
      "source": [
        "print('Combinations: ', CombinationsList().get_combinations([1, 2, 'a', 5]))"
      ],
      "execution_count": null,
      "outputs": []
    },
    {
      "cell_type": "markdown",
      "metadata": {
        "id": "Etp9QRL-sdcC"
      },
      "source": [
        "Expected Output:\n",
        "<table>\n",
        "  <tr>\n",
        "    <td>Combinations:</td>\n",
        "    <td>[[], [1], [2], ['a'], [5], [1, 2], [1, 'a'], [1, 5], [2, 'a'], [2, 5], ['a', 5], [1, 2, 'a'], [1, 2, 5], [1, 'a', 5], [2, 'a', 5], [1, 2, 'a', 5]]</td> \n",
        "  </tr>"
      ]
    },
    {
      "cell_type": "markdown",
      "metadata": {
        "id": "DMAxsP5ezTCn"
      },
      "source": [
        "#### 10. Create base class <code>Rocket</code> and it's subclass <code>Shuttle</code>. The parent class contains methods <code>getMission()</code>, <code>addMission()</code> and <code>getName()</code>. The subclass <code>Shuttle</code> contains method <code>getDescription()</code>. Notice that we have not defined <code>getName()</code>, <code>getMission()</code>, <code>addMission()</code> in the <code>Shuttle</code> class but we are still able to access them, because the class <code>Shuttle</code> inherits them from the <code>Rocket</code> class. Use <code>super()</code> method to have ability to call those methods of the base class.\n",
        "<div style=\"text-align: right\">3 points</div>"
      ]
    },
    {
      "cell_type": "code",
      "metadata": {
        "id": "0n3UwConzTCn"
      },
      "source": [
        "class Rocket:\n",
        "\n",
        "    def __init__(self, name, mission):\n",
        "        \"\"\"\n",
        "        :param name: str\n",
        "        :param mission: str or list\n",
        "        \"\"\"\n",
        "        # attributes are private to class Rocket\n",
        "        self.__name = name      \n",
        "        self.__mission = mission\n",
        "\n",
        "    def getMission(self): \n",
        "        \"\"\"\n",
        "        : return str or list\n",
        "        \"\"\"\n",
        "        # YOUR CODE HERE\n",
        "\n",
        "    def addMission(self, mission): \n",
        "        # procedure method which adds a new mission. There can be one (str) or multiple (list) existing missions\n",
        "        \"\"\"\n",
        "        : param mission: str\n",
        "        \"\"\"\n",
        "        # YOUR CODE HERE\n",
        "\n",
        "    def getName(self):\n",
        "        \"\"\"\n",
        "        : return str\n",
        "        \"\"\"\n",
        "        # YOUR CODE HERE\n",
        "\n",
        "    \n",
        "class Shuttle(Rocket):\n",
        "\n",
        "    def __init__(self, name, mission, model):\n",
        "        # call parent constructor to set name and mission  \n",
        "        \"\"\"\n",
        "        :param name: str\n",
        "        :param mission: str or list\n",
        "        : param model: str\n",
        "        \"\"\"\n",
        "        # YOUR CODE HERE\n",
        "\n",
        "    def getDescription(self):\n",
        "        return f'Name: {self.getName()}\\nModel: {self.__model}\\nMissions: {str(self.getMission())}'"
      ],
      "execution_count": null,
      "outputs": []
    },
    {
      "cell_type": "code",
      "metadata": {
        "id": "H7qmbnhgzTCo"
      },
      "source": [
        "dragon = Shuttle(\"Crew Dragon\", \"Dragon 2 pad abort test\", \"V2\")\n",
        "print(dragon.getDescription(), '\\n')\n",
        "dragon.addMission('Dragon 2 in-flight abort test')\n",
        "print(dragon.getDescription())"
      ],
      "execution_count": null,
      "outputs": []
    },
    {
      "cell_type": "markdown",
      "metadata": {
        "id": "CbRcyQwXzTCq"
      },
      "source": [
        "Expected Output: \n",
        "\n",
        "                Name: Crew Dragon\n",
        "                Model: V2\n",
        "                Missions: Dragon 2 pad abort test\n",
        "                \n",
        "                Name: Crew Dragon\n",
        "                Model: V2\n",
        "                Missions: ['Dragon 2 pad abort test', 'Dragon 2 in-flight abort test']\n",
        "\n"
      ]
    },
    {
      "cell_type": "markdown",
      "metadata": {
        "id": "yktlRg4ot2Ur"
      },
      "source": [
        "##### Python lab Done!"
      ]
    },
    {
      "cell_type": "markdown",
      "metadata": {
        "id": "vn9_hQTit2Ur"
      },
      "source": [
        "##### Make sure that you didn't add or delete any notebook cells. Otherwise your work may not be accepted by the validator!"
      ]
    }
  ]
}